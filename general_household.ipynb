{
 "cells": [
  {
   "cell_type": "code",
   "execution_count": 3,
   "metadata": {},
   "outputs": [],
   "source": [
    "import pandas as pd\n",
    "import matplotlib.pyplot as plt"
   ]
  },
  {
   "cell_type": "code",
   "execution_count": 12,
   "metadata": {},
   "outputs": [
    {
     "data": {
      "text/plain": [
       "Index(['THEME', 'STATUS', 'REF_PER_COLLECT', 'SD_VALUE', 'CCYY', 'M3M',\n",
       "       'STAT_VAR', 'STAT_PRES', 'STAT_VALUE', 'LQTYPE', 'TENURE',\n",
       "       'MDHI_XBONUS', 'MDHI', 'HHS', 'SEX', 'SEX_PROP', 'RSNEI', 'MARITAL',\n",
       "       'EDU', 'AGE', 'OCC', 'MEE_XBONUS', 'MEE', 'IND', 'HRWK', 'EMACT',\n",
       "       'RSNLESS35', 'WUDE', 'PIND', 'DURUE', 'RSNLJ', 'POCC'],\n",
       "      dtype='object')"
      ]
     },
     "execution_count": 12,
     "metadata": {},
     "output_type": "execute_result"
    }
   ],
   "source": [
    "df = pd.read_xml('dataset/GHS_Masterdata1.xml',xpath=\"/GHS/data/table/item\")\n",
    "df.columns"
   ]
  },
  {
   "cell_type": "code",
   "execution_count": 14,
   "metadata": {},
   "outputs": [
    {
     "data": {
      "text/plain": [
       "40000 - 44999    608\n",
       "60000 - 79999    608\n",
       "10000 - 14999    608\n",
       "15000 - 19999    608\n",
       "20000 - 24999    608\n",
       "25000 - 29999    608\n",
       "30000 - 34999    608\n",
       "35000 - 39999    608\n",
       "8000 - 9999      608\n",
       "45000 - 49999    608\n",
       "50000 - 59999    608\n",
       "80000 - 99999    456\n",
       "< 4000           456\n",
       "6000 - 7999      456\n",
       ">= 100000        456\n",
       "4000 - 5999      456\n",
       ">= 80000         152\n",
       "< 8000           152\n",
       "Name: MDHI, dtype: int64"
      ]
     },
     "execution_count": 14,
     "metadata": {},
     "output_type": "execute_result"
    }
   ],
   "source": [
    "df[\"MDHI\"].dropna().value_counts()\n"
   ]
  },
  {
   "cell_type": "code",
   "execution_count": 15,
   "metadata": {},
   "outputs": [
    {
     "data": {
      "text/plain": [
       "40000 - 44999    532\n",
       "60000 - 79999    532\n",
       "10000 - 14999    532\n",
       "15000 - 19999    532\n",
       "20000 - 24999    532\n",
       "25000 - 29999    532\n",
       "30000 - 34999    532\n",
       "35000 - 39999    532\n",
       "8000 - 9999      532\n",
       "45000 - 49999    532\n",
       "50000 - 59999    532\n",
       "80000 - 99999    380\n",
       "< 4000           380\n",
       "6000 - 7999      380\n",
       ">= 100000        380\n",
       "4000 - 5999      380\n",
       ">= 80000         152\n",
       "< 8000           152\n",
       "Name: MDHI_XBONUS, dtype: int64"
      ]
     },
     "execution_count": 15,
     "metadata": {},
     "output_type": "execute_result"
    }
   ],
   "source": [
    "df[\"MDHI_XBONUS\"].dropna().value_counts()"
   ]
  }
 ],
 "metadata": {
  "interpreter": {
   "hash": "f652c1ddc59388ac6120ecc72f6714876d59bbe2b3e4f5caed07ab02f17b894d"
  },
  "kernelspec": {
   "display_name": "Python 3.10.2 ('data_science_env': venv)",
   "language": "python",
   "name": "python3"
  },
  "language_info": {
   "codemirror_mode": {
    "name": "ipython",
    "version": 3
   },
   "file_extension": ".py",
   "mimetype": "text/x-python",
   "name": "python",
   "nbconvert_exporter": "python",
   "pygments_lexer": "ipython3",
   "version": "3.10.2"
  },
  "orig_nbformat": 4
 },
 "nbformat": 4,
 "nbformat_minor": 2
}
